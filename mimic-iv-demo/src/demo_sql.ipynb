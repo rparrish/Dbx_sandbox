{
 "cells": [
  {
   "cell_type": "code",
   "execution_count": 0,
   "metadata": {
    "application/vnd.databricks.v1+cell": {
     "cellMetadata": {
      "byteLimit": 2048000,
      "rowLimit": 10000
     },
     "inputWidgets": {},
     "nuid": "e544f291-d3a8-4f1a-b4a3-e0197bada362",
     "showTitle": false,
     "tableResultSettingsMap": {},
     "title": ""
    }
   },
   "outputs": [
    {
     "output_type": "display_data",
     "data": {
      "text/html": [
       "<style scoped>\n",
       "  .table-result-container {\n",
       "    max-height: 300px;\n",
       "    overflow: auto;\n",
       "  }\n",
       "  table, th, td {\n",
       "    border: 1px solid black;\n",
       "    border-collapse: collapse;\n",
       "  }\n",
       "  th, td {\n",
       "    padding: 5px;\n",
       "  }\n",
       "  th {\n",
       "    text-align: left;\n",
       "  }\n",
       "</style><div class='table-result-container'><table class='table-result'><thead style='background-color: white'><tr><th>subject_id</th><th>hadm_id</th><th>admittime</th><th>dischtime</th><th>deathtime</th><th>admission_type</th><th>admit_provider_id</th><th>admission_location</th><th>discharge_location</th><th>insurance</th><th>language</th><th>marital_status</th><th>race</th><th>edregtime</th><th>edouttime</th><th>hospital_expire_flag</th><th>_rescued_data</th></tr></thead><tbody><tr><td>10004235</td><td>24181354</td><td>2196-02-24T14:38:00.000</td><td>2196-03-04T14:02:00.000</td><td>null</td><td>URGENT</td><td>P03YMR</td><td>TRANSFER FROM HOSPITAL</td><td>SKILLED NURSING FACILITY</td><td>Medicaid</td><td>ENGLISH</td><td>SINGLE</td><td>BLACK/CAPE VERDEAN</td><td>2196-02-24T12:15:00.000</td><td>2196-02-24T17:07:00.000</td><td>0</td><td>null</td></tr><tr><td>10009628</td><td>25926192</td><td>2153-09-17T17:08:00.000</td><td>2153-09-25T13:20:00.000</td><td>null</td><td>URGENT</td><td>P41R5N</td><td>TRANSFER FROM HOSPITAL</td><td>HOME HEALTH CARE</td><td>Medicaid</td><td>?</td><td>MARRIED</td><td>HISPANIC/LATINO - PUERTO RICAN</td><td>null</td><td>null</td><td>0</td><td>null</td></tr><tr><td>10018081</td><td>23983182</td><td>2134-08-18T02:02:00.000</td><td>2134-08-23T19:35:00.000</td><td>null</td><td>URGENT</td><td>P233F6</td><td>TRANSFER FROM HOSPITAL</td><td>SKILLED NURSING FACILITY</td><td>Medicare</td><td>ENGLISH</td><td>MARRIED</td><td>WHITE</td><td>2134-08-17T16:24:00.000</td><td>2134-08-18T03:15:00.000</td><td>0</td><td>null</td></tr><tr><td>10006053</td><td>22942076</td><td>2111-11-13T23:39:00.000</td><td>2111-11-15T17:20:00.000</td><td>2111-11-15T17:20:00.000</td><td>URGENT</td><td>P38TI6</td><td>TRANSFER FROM HOSPITAL</td><td>DIED</td><td>Medicaid</td><td>ENGLISH</td><td>null</td><td>UNKNOWN</td><td>null</td><td>null</td><td>1</td><td>null</td></tr><tr><td>10031404</td><td>21606243</td><td>2113-08-04T18:46:00.000</td><td>2113-08-06T20:57:00.000</td><td>null</td><td>URGENT</td><td>P07HDB</td><td>TRANSFER FROM HOSPITAL</td><td>HOME</td><td>Other</td><td>ENGLISH</td><td>WIDOWED</td><td>WHITE</td><td>null</td><td>null</td><td>0</td><td>null</td></tr><tr><td>10005817</td><td>20626031</td><td>2132-12-12T01:43:00.000</td><td>2132-12-20T15:04:00.000</td><td>null</td><td>URGENT</td><td>P41R5N</td><td>TRANSFER FROM HOSPITAL</td><td>HOME HEALTH CARE</td><td>Medicare</td><td>ENGLISH</td><td>MARRIED</td><td>WHITE</td><td>null</td><td>null</td><td>0</td><td>null</td></tr><tr><td>10019385</td><td>20297618</td><td>2180-02-15T20:28:00.000</td><td>2180-02-25T13:45:00.000</td><td>null</td><td>URGENT</td><td>P536JC</td><td>TRANSFER FROM HOSPITAL</td><td>HOME HEALTH CARE</td><td>Other</td><td>ENGLISH</td><td>MARRIED</td><td>WHITE</td><td>null</td><td>null</td><td>0</td><td>null</td></tr><tr><td>10002495</td><td>24982426</td><td>2141-05-22T20:17:00.000</td><td>2141-05-29T17:41:00.000</td><td>null</td><td>URGENT</td><td>P79SJ2</td><td>TRANSFER FROM HOSPITAL</td><td>SKILLED NURSING FACILITY</td><td>Medicare</td><td>ENGLISH</td><td>MARRIED</td><td>UNKNOWN</td><td>null</td><td>null</td><td>0</td><td>null</td></tr><tr><td>10038081</td><td>20755971</td><td>2115-09-27T20:40:00.000</td><td>2115-10-12T00:00:00.000</td><td>2115-10-12T22:20:00.000</td><td>URGENT</td><td>P48GIG</td><td>TRANSFER FROM HOSPITAL</td><td>DIED</td><td>Other</td><td>?</td><td>SINGLE</td><td>UNKNOWN</td><td>null</td><td>null</td><td>1</td><td>null</td></tr><tr><td>10019917</td><td>22585261</td><td>2182-01-07T23:25:00.000</td><td>2182-01-10T16:52:00.000</td><td>null</td><td>URGENT</td><td>P3529J</td><td>TRANSFER FROM HOSPITAL</td><td>HOME</td><td>Other</td><td>ENGLISH</td><td>SINGLE</td><td>OTHER</td><td>null</td><td>null</td><td>0</td><td>null</td></tr></tbody></table></div>"
      ]
     },
     "metadata": {
      "application/vnd.databricks.v1+output": {
       "addedWidgets": {},
       "aggData": [],
       "aggError": "",
       "aggOverflow": false,
       "aggSchema": [],
       "aggSeriesLimitReached": false,
       "aggType": "",
       "arguments": {},
       "columnCustomDisplayInfos": {},
       "data": [
        [
         10004235,
         24181354,
         "2196-02-24T14:38:00.000",
         "2196-03-04T14:02:00.000",
         null,
         "URGENT",
         "P03YMR",
         "TRANSFER FROM HOSPITAL",
         "SKILLED NURSING FACILITY",
         "Medicaid",
         "ENGLISH",
         "SINGLE",
         "BLACK/CAPE VERDEAN",
         "2196-02-24T12:15:00.000",
         "2196-02-24T17:07:00.000",
         0,
         null
        ],
        [
         10009628,
         25926192,
         "2153-09-17T17:08:00.000",
         "2153-09-25T13:20:00.000",
         null,
         "URGENT",
         "P41R5N",
         "TRANSFER FROM HOSPITAL",
         "HOME HEALTH CARE",
         "Medicaid",
         "?",
         "MARRIED",
         "HISPANIC/LATINO - PUERTO RICAN",
         null,
         null,
         0,
         null
        ],
        [
         10018081,
         23983182,
         "2134-08-18T02:02:00.000",
         "2134-08-23T19:35:00.000",
         null,
         "URGENT",
         "P233F6",
         "TRANSFER FROM HOSPITAL",
         "SKILLED NURSING FACILITY",
         "Medicare",
         "ENGLISH",
         "MARRIED",
         "WHITE",
         "2134-08-17T16:24:00.000",
         "2134-08-18T03:15:00.000",
         0,
         null
        ],
        [
         10006053,
         22942076,
         "2111-11-13T23:39:00.000",
         "2111-11-15T17:20:00.000",
         "2111-11-15T17:20:00.000",
         "URGENT",
         "P38TI6",
         "TRANSFER FROM HOSPITAL",
         "DIED",
         "Medicaid",
         "ENGLISH",
         null,
         "UNKNOWN",
         null,
         null,
         1,
         null
        ],
        [
         10031404,
         21606243,
         "2113-08-04T18:46:00.000",
         "2113-08-06T20:57:00.000",
         null,
         "URGENT",
         "P07HDB",
         "TRANSFER FROM HOSPITAL",
         "HOME",
         "Other",
         "ENGLISH",
         "WIDOWED",
         "WHITE",
         null,
         null,
         0,
         null
        ],
        [
         10005817,
         20626031,
         "2132-12-12T01:43:00.000",
         "2132-12-20T15:04:00.000",
         null,
         "URGENT",
         "P41R5N",
         "TRANSFER FROM HOSPITAL",
         "HOME HEALTH CARE",
         "Medicare",
         "ENGLISH",
         "MARRIED",
         "WHITE",
         null,
         null,
         0,
         null
        ],
        [
         10019385,
         20297618,
         "2180-02-15T20:28:00.000",
         "2180-02-25T13:45:00.000",
         null,
         "URGENT",
         "P536JC",
         "TRANSFER FROM HOSPITAL",
         "HOME HEALTH CARE",
         "Other",
         "ENGLISH",
         "MARRIED",
         "WHITE",
         null,
         null,
         0,
         null
        ],
        [
         10002495,
         24982426,
         "2141-05-22T20:17:00.000",
         "2141-05-29T17:41:00.000",
         null,
         "URGENT",
         "P79SJ2",
         "TRANSFER FROM HOSPITAL",
         "SKILLED NURSING FACILITY",
         "Medicare",
         "ENGLISH",
         "MARRIED",
         "UNKNOWN",
         null,
         null,
         0,
         null
        ],
        [
         10038081,
         20755971,
         "2115-09-27T20:40:00.000",
         "2115-10-12T00:00:00.000",
         "2115-10-12T22:20:00.000",
         "URGENT",
         "P48GIG",
         "TRANSFER FROM HOSPITAL",
         "DIED",
         "Other",
         "?",
         "SINGLE",
         "UNKNOWN",
         null,
         null,
         1,
         null
        ],
        [
         10019917,
         22585261,
         "2182-01-07T23:25:00.000",
         "2182-01-10T16:52:00.000",
         null,
         "URGENT",
         "P3529J",
         "TRANSFER FROM HOSPITAL",
         "HOME",
         "Other",
         "ENGLISH",
         "SINGLE",
         "OTHER",
         null,
         null,
         0,
         null
        ]
       ],
       "datasetInfos": [
        {
         "name": "_sqldf",
         "schema": {
          "fields": [
           {
            "metadata": {},
            "name": "subject_id",
            "nullable": true,
            "type": "long"
           },
           {
            "metadata": {},
            "name": "hadm_id",
            "nullable": true,
            "type": "long"
           },
           {
            "metadata": {},
            "name": "admittime",
            "nullable": true,
            "type": "timestamp_ntz"
           },
           {
            "metadata": {},
            "name": "dischtime",
            "nullable": true,
            "type": "timestamp_ntz"
           },
           {
            "metadata": {},
            "name": "deathtime",
            "nullable": true,
            "type": "timestamp_ntz"
           },
           {
            "metadata": {},
            "name": "admission_type",
            "nullable": true,
            "type": "string"
           },
           {
            "metadata": {},
            "name": "admit_provider_id",
            "nullable": true,
            "type": "string"
           },
           {
            "metadata": {},
            "name": "admission_location",
            "nullable": true,
            "type": "string"
           },
           {
            "metadata": {},
            "name": "discharge_location",
            "nullable": true,
            "type": "string"
           },
           {
            "metadata": {},
            "name": "insurance",
            "nullable": true,
            "type": "string"
           },
           {
            "metadata": {},
            "name": "language",
            "nullable": true,
            "type": "string"
           },
           {
            "metadata": {},
            "name": "marital_status",
            "nullable": true,
            "type": "string"
           },
           {
            "metadata": {},
            "name": "race",
            "nullable": true,
            "type": "string"
           },
           {
            "metadata": {},
            "name": "edregtime",
            "nullable": true,
            "type": "timestamp_ntz"
           },
           {
            "metadata": {},
            "name": "edouttime",
            "nullable": true,
            "type": "timestamp_ntz"
           },
           {
            "metadata": {},
            "name": "hospital_expire_flag",
            "nullable": true,
            "type": "long"
           },
           {
            "metadata": {},
            "name": "_rescued_data",
            "nullable": true,
            "type": "string"
           }
          ],
          "type": "struct"
         },
         "tableIdentifier": null,
         "typeStr": "pyspark.sql.connect.dataframe.DataFrame"
        }
       ],
       "dbfsResultPath": null,
       "isJsonSchema": true,
       "metadata": {
        "createTempViewForImplicitDf": true,
        "dataframeName": "_sqldf",
        "executionCount": 1
       },
       "overflow": false,
       "plotOptions": {
        "customPlotOptions": {},
        "displayType": "table",
        "pivotAggregation": null,
        "pivotColumns": null,
        "xColumns": null,
        "yColumns": null
       },
       "removedWidgets": [],
       "schema": [
        {
         "metadata": "{}",
         "name": "subject_id",
         "type": "\"long\""
        },
        {
         "metadata": "{}",
         "name": "hadm_id",
         "type": "\"long\""
        },
        {
         "metadata": "{}",
         "name": "admittime",
         "type": "\"timestamp_ntz\""
        },
        {
         "metadata": "{}",
         "name": "dischtime",
         "type": "\"timestamp_ntz\""
        },
        {
         "metadata": "{}",
         "name": "deathtime",
         "type": "\"timestamp_ntz\""
        },
        {
         "metadata": "{}",
         "name": "admission_type",
         "type": "\"string\""
        },
        {
         "metadata": "{}",
         "name": "admit_provider_id",
         "type": "\"string\""
        },
        {
         "metadata": "{}",
         "name": "admission_location",
         "type": "\"string\""
        },
        {
         "metadata": "{}",
         "name": "discharge_location",
         "type": "\"string\""
        },
        {
         "metadata": "{}",
         "name": "insurance",
         "type": "\"string\""
        },
        {
         "metadata": "{}",
         "name": "language",
         "type": "\"string\""
        },
        {
         "metadata": "{}",
         "name": "marital_status",
         "type": "\"string\""
        },
        {
         "metadata": "{}",
         "name": "race",
         "type": "\"string\""
        },
        {
         "metadata": "{}",
         "name": "edregtime",
         "type": "\"timestamp_ntz\""
        },
        {
         "metadata": "{}",
         "name": "edouttime",
         "type": "\"timestamp_ntz\""
        },
        {
         "metadata": "{}",
         "name": "hospital_expire_flag",
         "type": "\"long\""
        },
        {
         "metadata": "{}",
         "name": "_rescued_data",
         "type": "\"string\""
        }
       ],
       "type": "table"
      }
     },
     "output_type": "display_data"
    }
   ],
   "source": [
    "SELECT * FROM metastore.mimic_iv_demo.hosp_admissions limit 10;"
   ]
  }
 ],
 "metadata": {
  "application/vnd.databricks.v1+notebook": {
   "computePreferences": null,
   "dashboards": [],
   "environmentMetadata": {
    "base_environment": "",
    "environment_version": "2"
   },
   "inputWidgetPreferences": null,
   "language": "sql",
   "notebookMetadata": {},
   "notebookName": "Untitled Notebook 2025-07-01 19:33:56",
   "widgets": {}
  },
  "language_info": {
   "name": "sql"
  }
 },
 "nbformat": 4,
 "nbformat_minor": 0
}