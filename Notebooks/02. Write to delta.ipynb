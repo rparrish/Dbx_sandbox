{
 "cells": [
  {
   "cell_type": "code",
   "execution_count": null,
   "metadata": {},
   "outputs": [],
   "source": [
    "options(repos = c(CRAN = \"https://packagemanager.posit.co/cran/__linux__/focal/latest\"))\n",
    "options()$repos\n",
    " \n",
    "r_lib_path <- \"/dbfs/R/library\"\n",
    ".libPaths(c(r_lib_path, .libPaths()))\n",
    "\n",
    "pacman::p_load(\n",
    " sparklyr, \n",
    " arrow,\n",
    " dplyr\n",
    ")"
   ]
  },
  {
   "cell_type": "code",
   "execution_count": null,
   "metadata": {},
   "outputs": [],
   "source": [
    "%fs ls /"
   ]
  },
  {
   "cell_type": "code",
   "execution_count": null,
   "metadata": {},
   "outputs": [],
   "source": [
    "suppressWarnings(sc <- spark_connect(method = \"databricks\"))\n",
    "\n",
    "#patient_admits <- spark_read_parquet(sc, \"file:/dbfs/Data/CoreCDM/Silver/patient-admits/part-0.parquet\")\n",
    "\n",
    "patients <- spark_read_csv(sc, \"file:/dbfs/Data/mimic-iv-demo/2.2/hosp/patients.csv.gz\")\n",
    "admissions <- spark_read_csv(sc, \"file:/dbfs/Data/mimic-iv-demo/2.2/hosp/admissions.csv.gz\")\n",
    "labevents <- spark_read_csv(sc, \"file:/dbfs/Data/mimic-iv-demo/2.2/hosp/labevents.csv.gz\")\n",
    "d_labitems <- spark_read_csv(sc, \"file:/dbfs/Data/mimic-iv-demo/2.2/hosp/d_labitems.csv.gz\")\n"
   ]
  },
  {
   "cell_type": "code",
   "execution_count": null,
   "metadata": {},
   "outputs": [],
   "source": [
    "patients |>\n",
    "head() |> \n",
    "display()\n"
   ]
  },
  {
   "cell_type": "code",
   "execution_count": null,
   "metadata": {},
   "outputs": [],
   "source": [
    "%sql\n",
    "\n",
    "#DBI::dbSendQuery(sc, \"CREATE SCHEMA IF NOT EXISTS mimic_iv_demo;\")\n",
    "\n",
    "spark_write_table(admissions, \"mimic_iv_demo.hosp_admissions\", mode = \"overwrite\")\n",
    "spark_write_table(patients, \"mimic_iv_demo.hosp_patients\", mode = \"overwrite\")\n",
    "spark_write_table(labevents, \"mimic_iv_demo.hosp_labevents\", mode = \"overwrite\")\n",
    "spark_write_table(labevents, \"mimic_iv_demo.hosp_d_labitems\", mode = \"overwrite\")\n"
   ]
  },
  {
   "cell_type": "code",
   "execution_count": null,
   "metadata": {},
   "outputs": [],
   "source": [
    "%sql\n",
    "\n",
    "select * from hive_metastore.mimic_iv_demo.hosp_${df_name}\n"
   ]
  },
  {
   "cell_type": "code",
   "execution_count": null,
   "metadata": {},
   "outputs": [],
   "source": [
    "patients |>\n",
    "spark_write_delta(\"file:/dbfs/Data/mimic-iv-demo/hosp/patients\", \n",
    "options = c())"
   ]
  }
 ],
 "metadata": {
  "language_info": {
   "name": "r"
  }
 },
 "nbformat": 4,
 "nbformat_minor": 2
}
