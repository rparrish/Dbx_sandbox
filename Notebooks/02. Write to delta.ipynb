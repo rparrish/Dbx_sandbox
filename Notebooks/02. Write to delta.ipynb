{
 "cells": [
  {
   "cell_type": "code",
   "execution_count": 0,
   "metadata": {
    "application/vnd.databricks.v1+cell": {
     "cellMetadata": {
      "byteLimit": 2048000,
      "rowLimit": 10000
     },
     "inputWidgets": {},
     "nuid": "a7e48545-d346-40cc-991d-d7444430cf4d",
     "showTitle": false,
     "tableResultSettingsMap": {},
     "title": ""
    }
   },
   "outputs": [],
   "source": [
    "options(repos = c(CRAN = \"https://packagemanager.posit.co/cran/__linux__/focal/latest\"))\n",
    "options()$repos\n",
    " \n",
    "r_lib_path <- \"file:/R/library\"\n",
    "#.libPaths(c(r_lib_path, .libPaths()))\n",
    ".libPaths(c(r_lib_path, .libPaths()))\n",
    "\n",
    "\n"
   ]
  },
  {
   "cell_type": "code",
   "execution_count": 0,
   "metadata": {
    "application/vnd.databricks.v1+cell": {
     "cellMetadata": {
      "byteLimit": 2048000,
      "rowLimit": 10000
     },
     "inputWidgets": {},
     "nuid": "18d0ff04-c657-455e-ac93-3eb16d4c5a94",
     "showTitle": false,
     "tableResultSettingsMap": {},
     "title": ""
    }
   },
   "outputs": [],
   "source": [
    "#%fs ls /R/library\n",
    ".libPaths()"
   ]
  },
  {
   "cell_type": "code",
   "execution_count": 0,
   "metadata": {
    "application/vnd.databricks.v1+cell": {
     "cellMetadata": {
      "byteLimit": 2048000,
      "rowLimit": 10000
     },
     "inputWidgets": {},
     "nuid": "e4db79ce-185c-4272-a43d-d5791149a156",
     "showTitle": false,
     "tableResultSettingsMap": {},
     "title": ""
    }
   },
   "outputs": [],
   "source": [
    "install.packages(\"pacman\")\n",
    "\n",
    "pacman::p_load(\n",
    " sparklyr, \n",
    " arrow,\n",
    " dplyr\n",
    ")"
   ]
  },
  {
   "cell_type": "code",
   "execution_count": 0,
   "metadata": {
    "application/vnd.databricks.v1+cell": {
     "cellMetadata": {},
     "inputWidgets": {},
     "nuid": "46c5f86d-9973-4791-9d37-686206c9da0b",
     "showTitle": false,
     "tableResultSettingsMap": {},
     "title": ""
    }
   },
   "outputs": [],
   "source": [
    "%fs ls /"
   ]
  },
  {
   "cell_type": "code",
   "execution_count": 0,
   "metadata": {
    "application/vnd.databricks.v1+cell": {
     "cellMetadata": {
      "byteLimit": 2048000,
      "rowLimit": 10000
     },
     "inputWidgets": {},
     "nuid": "0c8116eb-f68c-436c-96eb-c26d16f06bab",
     "showTitle": false,
     "tableResultSettingsMap": {},
     "title": ""
    }
   },
   "outputs": [],
   "source": [
    "  sc <- spark_connect(method = \"databricks\")\n",
    "  sc \n",
    "  "
   ]
  },
  {
   "cell_type": "code",
   "execution_count": 0,
   "metadata": {
    "application/vnd.databricks.v1+cell": {
     "cellMetadata": {
      "byteLimit": 2048000,
      "rowLimit": 10000
     },
     "inputWidgets": {},
     "nuid": "cd2d65af-5c52-41f2-8fd1-9dde9efa027f",
     "showTitle": false,
     "tableResultSettingsMap": {},
     "title": ""
    }
   },
   "outputs": [],
   "source": [
    "#suppressWarnings(\n",
    "#  sc <- spark_connect(method = \"databricks\")\n",
    "#  )\n",
    "\n",
    "patients <- spark_read_csv(sc, \"file:/dbfs/Data/mimic-iv-demo/2.2/hosp/patients.csv.gz\")\n",
    "admissions <- spark_read_csv(sc, \"file:/dbfs/Data/mimic-iv-demo/2.2/hosp/admissions.csv.gz\")\n",
    "labevents <- spark_read_csv(sc, \"file:/dbfs/Data/mimic-iv-demo/2.2/hosp/labevents.csv.gz\")\n",
    "d_labitems <- spark_read_csv(sc, \"file:/dbfs/Data/mimic-iv-demo/2.2/hosp/d_labitems.csv.gz\")\n"
   ]
  },
  {
   "cell_type": "code",
   "execution_count": 0,
   "metadata": {
    "application/vnd.databricks.v1+cell": {
     "cellMetadata": {
      "byteLimit": 2048000,
      "rowLimit": 10000
     },
     "inputWidgets": {},
     "nuid": "3d3be4fc-f2c0-4501-89c8-aa12850635d3",
     "showTitle": false,
     "tableResultSettingsMap": {},
     "title": ""
    }
   },
   "outputs": [],
   "source": [
    "patients |>\n",
    "head() |> \n",
    "display()\n"
   ]
  },
  {
   "cell_type": "code",
   "execution_count": 0,
   "metadata": {
    "application/vnd.databricks.v1+cell": {
     "cellMetadata": {
      "byteLimit": 2048000,
      "rowLimit": 10000
     },
     "inputWidgets": {},
     "nuid": "52ed4422-b85c-43e7-92cb-09d3a6c85190",
     "showTitle": false,
     "tableResultSettingsMap": {},
     "title": ""
    }
   },
   "outputs": [],
   "source": [
    "DBI::dbSendQuery(sc, \"CREATE SCHEMA IF NOT EXISTS hive_metastore.mimic_iv_demo;\")"
   ]
  },
  {
   "cell_type": "code",
   "execution_count": 0,
   "metadata": {
    "application/vnd.databricks.v1+cell": {
     "cellMetadata": {
      "byteLimit": 2048000,
      "rowLimit": 10000
     },
     "inputWidgets": {},
     "nuid": "1536e32d-3533-4abc-add7-27e15a46b9fb",
     "showTitle": false,
     "tableResultSettingsMap": {},
     "title": ""
    }
   },
   "outputs": [],
   "source": [
    "\n",
    "\n",
    "\n",
    "spark_write_table(admissions, \"hive_metastore.mimic_iv_demo.hosp_admissions\", mode = \"overwrite\")\n",
    "spark_write_table(patients, \"hive_metastore.mimic_iv_demo.hosp_patients\", mode = \"overwrite\")\n",
    "#spark_write_table(labevents, \"hive_metastore.mimic_iv_demo.hosp_labevents\", mode = \"overwrite\")\n",
    "#spark_write_table(labevents, \"hive_metastore.mimic_iv_demo.hosp_d_labitems\", mode = \"overwrite\")\n"
   ]
  },
  {
   "cell_type": "code",
   "execution_count": 0,
   "metadata": {
    "application/vnd.databricks.v1+cell": {
     "cellMetadata": {
      "byteLimit": 2048000,
      "rowLimit": 10000
     },
     "inputWidgets": {},
     "nuid": "28cbb149-2d41-42cf-a2e7-f924484fb730",
     "showTitle": false,
     "tableResultSettingsMap": {},
     "title": ""
    }
   },
   "outputs": [],
   "source": [
    "%sql\n",
    "\n",
    "select * from hive_metastore.mimic_iv_demo.hosp_patients;\n"
   ]
  },
  {
   "cell_type": "code",
   "execution_count": 0,
   "metadata": {
    "application/vnd.databricks.v1+cell": {
     "cellMetadata": {
      "byteLimit": 2048000,
      "rowLimit": 10000
     },
     "inputWidgets": {},
     "nuid": "61d619cf-95bf-4be5-b092-06ac640f4818",
     "showTitle": false,
     "tableResultSettingsMap": {},
     "title": ""
    }
   },
   "outputs": [],
   "source": [
    "patients |>\n",
    "spark_write_delta(\"file:/dbfs/Data/mimic-iv-demo/hosp/patients\", \n",
    "options = c())"
   ]
  }
 ],
 "metadata": {
  "application/vnd.databricks.v1+notebook": {
   "computePreferences": null,
   "dashboards": [],
   "environmentMetadata": null,
   "inputWidgetPreferences": null,
   "language": "r",
   "notebookMetadata": {
    "mostRecentlyExecutedCommandWithImplicitDF": {
     "commandId": -1,
     "dataframes": [
      "_sqldf"
     ]
    },
    "pythonIndentUnit": 4
   },
   "notebookName": "02. Write to delta",
   "widgets": {}
  },
  "language_info": {
   "name": "r"
  }
 },
 "nbformat": 4,
 "nbformat_minor": 0
}
