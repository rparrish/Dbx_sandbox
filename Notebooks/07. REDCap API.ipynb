{
 "cells": [
  {
   "cell_type": "code",
   "execution_count": 0,
   "metadata": {
    "application/vnd.databricks.v1+cell": {
     "cellMetadata": {
      "byteLimit": 2048000,
      "rowLimit": 10000
     },
     "inputWidgets": {},
     "nuid": "3baddacd-2981-4ccd-9622-5f381edc19fd",
     "showTitle": false,
     "tableResultSettingsMap": {},
     "title": ""
    }
   },
   "outputs": [],
   "source": [
    " #options(repos = c(CRAN = \"https://packagemanager.posit.co/cran/__linux__/focal/latest\"))\n",
    " options(repos = c(CRAN = \"https://packagemanager.posit.co/cran/__linux__/jammy/latest\"))\n",
    " \n",
    " options()$repos\n",
    "  \n",
    "# r_lib_path <- \"file:/R/library\"\n",
    "# .libPaths(c(r_lib_path, .libPaths()))\n",
    "\n",
    "install.packages(\"pacman\")\n",
    "install.packages(\"REDCapR\")\n",
    "install.packages(\"dplyr\")\n",
    "\n",
    "#pacman::p_load(\n",
    "#  REDCapR,\n",
    "#  dplyr\n",
    "#)\n"
   ]
  },
  {
   "cell_type": "code",
   "execution_count": 0,
   "metadata": {
    "application/vnd.databricks.v1+cell": {
     "cellMetadata": {
      "byteLimit": 2048000,
      "rowLimit": 10000
     },
     "inputWidgets": {},
     "nuid": "2b6129a8-48d8-4a69-b32c-ad5a3cdf2461",
     "showTitle": false,
     "tableResultSettingsMap": {},
     "title": ""
    }
   },
   "outputs": [],
   "source": [
    "\n",
    "\n",
    "post_body <- list(\n",
    "  token           = token,\n",
    "  content         = 'record',\n",
    "  format          = 'csv',\n",
    "  type            = 'flat'\n",
    ")\n",
    "\n",
    "raw_text <- httr::POST(\n",
    "  url             = redcap_uri,\n",
    "  body            = post_body,\n",
    "  httr::verbose() # Remove this line to suppress the console updates.\n",
    ")\n",
    "\n"
   ]
  },
  {
   "cell_type": "code",
   "execution_count": 0,
   "metadata": {
    "application/vnd.databricks.v1+cell": {
     "cellMetadata": {
      "byteLimit": 2048000,
      "rowLimit": 10000
     },
     "inputWidgets": {},
     "nuid": "99934325-bacb-4d32-be80-e228785efe52",
     "showTitle": false,
     "tableResultSettingsMap": {},
     "title": ""
    }
   },
   "outputs": [],
   "source": [
    "redcap_uri <- \"https://redcap-dev-2.ouhsc.edu/redcap/api/\"\n",
    "token      <- dbutils.secrets.get(\"dbx_sandbox\", \"redcap_demo\")\n",
    "\n",
    "# Never, ever hard-code tokens in code like this.\n",
    "# Only here for demo purposes in case secrets scope & key is not set up\n",
    "#token      <- \"9A068C425B1341D69E83064A2D273A70\" \n",
    "\n",
    "mydata <- REDCapR::redcap_read_oneshot(\n",
    "  redcap_uri = redcap_uri, \n",
    "  token = token,\n",
    "  verbose = FALSE)$data\n",
    "\n",
    "mydata |>\n",
    "display()\n"
   ]
  }
 ],
 "metadata": {
  "application/vnd.databricks.v1+notebook": {
   "computePreferences": null,
   "dashboards": [],
   "environmentMetadata": {
    "base_environment": "",
    "environment_version": "2"
   },
   "inputWidgetPreferences": null,
   "language": "r",
   "notebookMetadata": {},
   "notebookName": "07. REDCap API",
   "widgets": {}
  },
  "language_info": {
   "name": "r"
  }
 },
 "nbformat": 4,
 "nbformat_minor": 0
}
