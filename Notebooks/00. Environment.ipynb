{
 "cells": [
  {
   "cell_type": "code",
   "execution_count": 0,
   "metadata": {
    "application/vnd.databricks.v1+cell": {
     "cellMetadata": {
      "byteLimit": 2048000,
      "rowLimit": 10000
     },
     "inputWidgets": {},
     "nuid": "c34b4306-0ec2-42fb-ab31-7aa1cdd4b6d2",
     "showTitle": false,
     "tableResultSettingsMap": {},
     "title": ""
    }
   },
   "outputs": [],
   "source": [
    "# where are we?\n",
    "if(1 == 0 && !is.null(Sys.getenv(\"DB_HOME\"))) { \n",
    "    r_lib_path <- \"/dbfs/R/library\"\n",
    "    .libPaths(c(r_lib_path, .libPaths()))\n",
    "    Sys.setenv(R_CONFIG_FILE = \"/dbfs/config/sandbox/config.yml\")\n",
    "}\n",
    "\n",
    "#pacman::p_load(\n",
    "#  duckdb, \n",
    "#  dplyr\n",
    "#)\n",
    "\n",
    "getwd()\n",
    "config <- config::get()\n",
    "config"
   ]
  }
 ],
 "metadata": {
  "application/vnd.databricks.v1+notebook": {
   "computePreferences": null,
   "dashboards": [],
   "environmentMetadata": {
    "base_environment": "",
    "environment_version": "2"
   },
   "inputWidgetPreferences": null,
   "language": "r",
   "notebookMetadata": {
    "pythonIndentUnit": 4
   },
   "notebookName": "00. Environment",
   "widgets": {}
  },
  "language_info": {
   "name": "r"
  }
 },
 "nbformat": 4,
 "nbformat_minor": 0
}
