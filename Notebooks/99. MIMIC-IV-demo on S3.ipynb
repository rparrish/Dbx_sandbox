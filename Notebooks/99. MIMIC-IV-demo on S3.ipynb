{
 "cells": [
  {
   "cell_type": "code",
   "execution_count": 0,
   "metadata": {
    "application/vnd.databricks.v1+cell": {
     "cellMetadata": {
      "byteLimit": 2048000,
      "rowLimit": 10000
     },
     "inputWidgets": {},
     "nuid": "5a90781c-8952-4681-9ab6-1ac72f2c6133",
     "showTitle": false,
     "tableResultSettingsMap": {},
     "title": ""
    }
   },
   "outputs": [],
   "source": [
    "Sys.setenv(AWS_ACCESS_KEY_ID=\"[Your access key]\")\n",
    "Sys.setenv(AWS_SECRET_ACCESS_KEY=\"[Your secret access key]\")\n",
    "\n",
    "library(sparklyr)\n",
    "\n",
    "conf <- spark_config()\n",
    "\n",
    "conf$sparklyr.defaultPackages <- \"org.apache.hadoop:hadoop-aws:3.4.1\"\n",
    "\n",
    "sc <- spark_connect(method = \"databricks\", config = conf)"
   ]
  },
  {
   "cell_type": "code",
   "execution_count": 0,
   "metadata": {
    "application/vnd.databricks.v1+cell": {
     "cellMetadata": {
      "byteLimit": 2048000,
      "rowLimit": 10000
     },
     "inputWidgets": {},
     "nuid": "5bbca06b-c320-4fdf-b278-c67d66190e61",
     "showTitle": false,
     "tableResultSettingsMap": {},
     "title": ""
    }
   },
   "outputs": [],
   "source": [
    "admissions <- spark_read_csv(\n",
    "  sc,\n",
    "  path = \"s3a://physionet-open/mimic-iv-demo/2.2/hosp/admissions.csv.gz\", \n",
    "  memory = TRUE\n",
    ")\n",
    "\n"
   ]
  },
  {
   "cell_type": "code",
   "execution_count": 0,
   "metadata": {
    "application/vnd.databricks.v1+cell": {
     "cellMetadata": {
      "byteLimit": 2048000,
      "rowLimit": 10000
     },
     "inputWidgets": {},
     "nuid": "e2735e99-47a2-474e-a5f1-fe6229068f26",
     "showTitle": false,
     "tableResultSettingsMap": {},
     "title": ""
    }
   },
   "outputs": [],
   "source": [
    "admissions |>\n",
    "head() |> \n",
    "display()"
   ]
  }
 ],
 "metadata": {
  "application/vnd.databricks.v1+notebook": {
   "computePreferences": null,
   "dashboards": [],
   "environmentMetadata": {
    "base_environment": "",
    "environment_version": "2"
   },
   "inputWidgetPreferences": null,
   "language": "r",
   "notebookMetadata": {},
   "notebookName": "99. MIMIC-IV-demo on S3",
   "widgets": {}
  },
  "language_info": {
   "name": "r"
  }
 },
 "nbformat": 4,
 "nbformat_minor": 0
}
