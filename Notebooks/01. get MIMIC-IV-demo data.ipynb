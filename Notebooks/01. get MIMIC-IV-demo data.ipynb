{
 "cells": [
  {
   "cell_type": "code",
   "execution_count": 0,
   "metadata": {
    "application/vnd.databricks.v1+cell": {
     "cellMetadata": {
      "byteLimit": 2048000,
      "rowLimit": 10000
     },
     "inputWidgets": {},
     "nuid": "c4586d63-ec45-4405-b10a-8e1a1516ede3",
     "showTitle": false,
     "tableResultSettingsMap": {},
     "title": ""
    },
    "vscode": {
     "languageId": "python"
    }
   },
   "outputs": [],
   "source": [
    "%sh\n",
    "\n",
    "mkdir /dbfs/Data\n",
    "cd /dbfs/Data\n",
    "\n",
    " wget -r -N -c -np https://physionet.org/files/mimic-iv-demo/2.2/\n"
   ]
  },
  {
   "cell_type": "code",
   "execution_count": 0,
   "metadata": {
    "application/vnd.databricks.v1+cell": {
     "cellMetadata": {
      "byteLimit": 2048000,
      "rowLimit": 10000
     },
     "inputWidgets": {},
     "nuid": "ab911e3a-01a0-45fd-97d4-9060c45f65ea",
     "showTitle": false,
     "tableResultSettingsMap": {},
     "title": ""
    },
    "vscode": {
     "languageId": "python"
    }
   },
   "outputs": [],
   "source": [
    "%sh\n",
    "\n",
    "mkdir -p /dbfs/Data/mimic-iv-demo/2.2\n",
    "mkdir -p /dbfs/Data/mimic-iv-demo/2.2/hosp\n",
    "mkdir -p /dbfs/Data/mimic-iv-demo/2.2/icu\n",
    "\n",
    "cd /dbfs/Data/physionet.org/files/mimic-iv-demo/2.2/ \n",
    "\n",
    "mv demo_subject_id.csv /dbfs/Data/mimic-iv-demo/2.2\n",
    "mv hosp/*  /dbfs/Data/mimic-iv-demo/2.2/hosp\n",
    "mv icu/*  /dbfs/Data/mimic-iv-demo/2.2/icu\n",
    "\n",
    "rm -Rf /dbfs/Data/physionet.org"
   ]
  },
  {
   "cell_type": "code",
   "execution_count": 0,
   "metadata": {
    "application/vnd.databricks.v1+cell": {
     "cellMetadata": {
      "byteLimit": 2048000,
      "rowLimit": 10000
     },
     "inputWidgets": {},
     "nuid": "32ba11e6-321b-4430-b962-f6e9ddd7b498",
     "showTitle": false,
     "tableResultSettingsMap": {},
     "title": ""
    },
    "vscode": {
     "languageId": "python"
    }
   },
   "outputs": [],
   "source": [
    "%sh\n",
    "\n",
    "rm -Rf /dbfs/Data/physionet.org\n",
    "\n",
    "#tree /dbfs/Data/mimic-iv-demo \n",
    "find /dbfs/Data/mimic-iv-demo/2.2"
   ]
  }
 ],
 "metadata": {
  "application/vnd.databricks.v1+notebook": {
   "computePreferences": null,
   "dashboards": [],
   "environmentMetadata": null,
   "inputWidgetPreferences": null,
   "language": "r",
   "notebookMetadata": {
    "mostRecentlyExecutedCommandWithImplicitDF": {
     "commandId": 5978269586316505,
     "dataframes": [
      "_sqldf"
     ]
    }
   },
   "notebookName": "01. get MIMIC-IV-demo data",
   "widgets": {}
  },
  "language_info": {
   "name": "r"
  }
 },
 "nbformat": 4,
 "nbformat_minor": 0
}
