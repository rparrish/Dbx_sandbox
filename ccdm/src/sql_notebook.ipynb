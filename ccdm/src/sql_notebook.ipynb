{
 "cells": [
  {
   "cell_type": "code",
   "execution_count": 0,
   "metadata": {
    "application/vnd.databricks.v1+cell": {
     "cellMetadata": {
      "byteLimit": 2048000,
      "rowLimit": 10000
     },
     "inputWidgets": {},
     "nuid": "bc99597c-d9af-4e20-95dc-7fc7f57d9e09",
     "showTitle": false,
     "tableResultSettingsMap": {},
     "title": ""
    }
   },
   "outputs": [
    {
     "output_type": "display_data",
     "data": {
      "text/html": [
       "<style scoped>\n",
       "  .table-result-container {\n",
       "    max-height: 300px;\n",
       "    overflow: auto;\n",
       "  }\n",
       "  table, th, td {\n",
       "    border: 1px solid black;\n",
       "    border-collapse: collapse;\n",
       "  }\n",
       "  th, td {\n",
       "    padding: 5px;\n",
       "  }\n",
       "  th {\n",
       "    text-align: left;\n",
       "  }\n",
       "</style><div class='table-result-container'><table class='table-result'><thead style='background-color: white'><tr><th>subject_id</th><th>hadm_id</th><th>admittime</th><th>dischtime</th><th>deathtime</th><th>admission_type</th><th>admit_provider_id</th><th>admission_location</th><th>discharge_location</th><th>insurance</th><th>language</th><th>marital_status</th><th>race</th><th>edregtime</th><th>edouttime</th><th>hospital_expire_flag</th></tr></thead><tbody><tr><td>10004235</td><td>24181354</td><td>2196-02-24T14:38:00Z</td><td>2196-03-04T14:02:00Z</td><td>null</td><td>URGENT</td><td>P03YMR</td><td>TRANSFER FROM HOSPITAL</td><td>SKILLED NURSING FACILITY</td><td>Medicaid</td><td>ENGLISH</td><td>SINGLE</td><td>BLACK/CAPE VERDEAN</td><td>2196-02-24T12:15:00Z</td><td>2196-02-24T17:07:00Z</td><td>0</td></tr><tr><td>10009628</td><td>25926192</td><td>2153-09-17T17:08:00Z</td><td>2153-09-25T13:20:00Z</td><td>null</td><td>URGENT</td><td>P41R5N</td><td>TRANSFER FROM HOSPITAL</td><td>HOME HEALTH CARE</td><td>Medicaid</td><td>?</td><td>MARRIED</td><td>HISPANIC/LATINO - PUERTO RICAN</td><td>null</td><td>null</td><td>0</td></tr><tr><td>10018081</td><td>23983182</td><td>2134-08-18T02:02:00Z</td><td>2134-08-23T19:35:00Z</td><td>null</td><td>URGENT</td><td>P233F6</td><td>TRANSFER FROM HOSPITAL</td><td>SKILLED NURSING FACILITY</td><td>Medicare</td><td>ENGLISH</td><td>MARRIED</td><td>WHITE</td><td>2134-08-17T16:24:00Z</td><td>2134-08-18T03:15:00Z</td><td>0</td></tr><tr><td>10006053</td><td>22942076</td><td>2111-11-13T23:39:00Z</td><td>2111-11-15T17:20:00Z</td><td>2111-11-15T17:20:00Z</td><td>URGENT</td><td>P38TI6</td><td>TRANSFER FROM HOSPITAL</td><td>DIED</td><td>Medicaid</td><td>ENGLISH</td><td>null</td><td>UNKNOWN</td><td>null</td><td>null</td><td>1</td></tr><tr><td>10031404</td><td>21606243</td><td>2113-08-04T18:46:00Z</td><td>2113-08-06T20:57:00Z</td><td>null</td><td>URGENT</td><td>P07HDB</td><td>TRANSFER FROM HOSPITAL</td><td>HOME</td><td>Other</td><td>ENGLISH</td><td>WIDOWED</td><td>WHITE</td><td>null</td><td>null</td><td>0</td></tr><tr><td>10005817</td><td>20626031</td><td>2132-12-12T01:43:00Z</td><td>2132-12-20T15:04:00Z</td><td>null</td><td>URGENT</td><td>P41R5N</td><td>TRANSFER FROM HOSPITAL</td><td>HOME HEALTH CARE</td><td>Medicare</td><td>ENGLISH</td><td>MARRIED</td><td>WHITE</td><td>null</td><td>null</td><td>0</td></tr><tr><td>10019385</td><td>20297618</td><td>2180-02-15T20:28:00Z</td><td>2180-02-25T13:45:00Z</td><td>null</td><td>URGENT</td><td>P536JC</td><td>TRANSFER FROM HOSPITAL</td><td>HOME HEALTH CARE</td><td>Other</td><td>ENGLISH</td><td>MARRIED</td><td>WHITE</td><td>null</td><td>null</td><td>0</td></tr><tr><td>10002495</td><td>24982426</td><td>2141-05-22T20:17:00Z</td><td>2141-05-29T17:41:00Z</td><td>null</td><td>URGENT</td><td>P79SJ2</td><td>TRANSFER FROM HOSPITAL</td><td>SKILLED NURSING FACILITY</td><td>Medicare</td><td>ENGLISH</td><td>MARRIED</td><td>UNKNOWN</td><td>null</td><td>null</td><td>0</td></tr><tr><td>10038081</td><td>20755971</td><td>2115-09-27T20:40:00Z</td><td>2115-10-12T00:00:00Z</td><td>2115-10-12T22:20:00Z</td><td>URGENT</td><td>P48GIG</td><td>TRANSFER FROM HOSPITAL</td><td>DIED</td><td>Other</td><td>?</td><td>SINGLE</td><td>UNKNOWN</td><td>null</td><td>null</td><td>1</td></tr><tr><td>10019917</td><td>22585261</td><td>2182-01-07T23:25:00Z</td><td>2182-01-10T16:52:00Z</td><td>null</td><td>URGENT</td><td>P3529J</td><td>TRANSFER FROM HOSPITAL</td><td>HOME</td><td>Other</td><td>ENGLISH</td><td>SINGLE</td><td>OTHER</td><td>null</td><td>null</td><td>0</td></tr></tbody></table></div>"
      ]
     },
     "metadata": {
      "application/vnd.databricks.v1+output": {
       "addedWidgets": {},
       "aggData": [],
       "aggError": "",
       "aggOverflow": false,
       "aggSchema": [],
       "aggSeriesLimitReached": false,
       "aggType": "",
       "arguments": {},
       "columnCustomDisplayInfos": {},
       "data": [
        [
         10004235,
         24181354,
         "2196-02-24T14:38:00Z",
         "2196-03-04T14:02:00Z",
         null,
         "URGENT",
         "P03YMR",
         "TRANSFER FROM HOSPITAL",
         "SKILLED NURSING FACILITY",
         "Medicaid",
         "ENGLISH",
         "SINGLE",
         "BLACK/CAPE VERDEAN",
         "2196-02-24T12:15:00Z",
         "2196-02-24T17:07:00Z",
         0
        ],
        [
         10009628,
         25926192,
         "2153-09-17T17:08:00Z",
         "2153-09-25T13:20:00Z",
         null,
         "URGENT",
         "P41R5N",
         "TRANSFER FROM HOSPITAL",
         "HOME HEALTH CARE",
         "Medicaid",
         "?",
         "MARRIED",
         "HISPANIC/LATINO - PUERTO RICAN",
         null,
         null,
         0
        ],
        [
         10018081,
         23983182,
         "2134-08-18T02:02:00Z",
         "2134-08-23T19:35:00Z",
         null,
         "URGENT",
         "P233F6",
         "TRANSFER FROM HOSPITAL",
         "SKILLED NURSING FACILITY",
         "Medicare",
         "ENGLISH",
         "MARRIED",
         "WHITE",
         "2134-08-17T16:24:00Z",
         "2134-08-18T03:15:00Z",
         0
        ],
        [
         10006053,
         22942076,
         "2111-11-13T23:39:00Z",
         "2111-11-15T17:20:00Z",
         "2111-11-15T17:20:00Z",
         "URGENT",
         "P38TI6",
         "TRANSFER FROM HOSPITAL",
         "DIED",
         "Medicaid",
         "ENGLISH",
         null,
         "UNKNOWN",
         null,
         null,
         1
        ],
        [
         10031404,
         21606243,
         "2113-08-04T18:46:00Z",
         "2113-08-06T20:57:00Z",
         null,
         "URGENT",
         "P07HDB",
         "TRANSFER FROM HOSPITAL",
         "HOME",
         "Other",
         "ENGLISH",
         "WIDOWED",
         "WHITE",
         null,
         null,
         0
        ],
        [
         10005817,
         20626031,
         "2132-12-12T01:43:00Z",
         "2132-12-20T15:04:00Z",
         null,
         "URGENT",
         "P41R5N",
         "TRANSFER FROM HOSPITAL",
         "HOME HEALTH CARE",
         "Medicare",
         "ENGLISH",
         "MARRIED",
         "WHITE",
         null,
         null,
         0
        ],
        [
         10019385,
         20297618,
         "2180-02-15T20:28:00Z",
         "2180-02-25T13:45:00Z",
         null,
         "URGENT",
         "P536JC",
         "TRANSFER FROM HOSPITAL",
         "HOME HEALTH CARE",
         "Other",
         "ENGLISH",
         "MARRIED",
         "WHITE",
         null,
         null,
         0
        ],
        [
         10002495,
         24982426,
         "2141-05-22T20:17:00Z",
         "2141-05-29T17:41:00Z",
         null,
         "URGENT",
         "P79SJ2",
         "TRANSFER FROM HOSPITAL",
         "SKILLED NURSING FACILITY",
         "Medicare",
         "ENGLISH",
         "MARRIED",
         "UNKNOWN",
         null,
         null,
         0
        ],
        [
         10038081,
         20755971,
         "2115-09-27T20:40:00Z",
         "2115-10-12T00:00:00Z",
         "2115-10-12T22:20:00Z",
         "URGENT",
         "P48GIG",
         "TRANSFER FROM HOSPITAL",
         "DIED",
         "Other",
         "?",
         "SINGLE",
         "UNKNOWN",
         null,
         null,
         1
        ],
        [
         10019917,
         22585261,
         "2182-01-07T23:25:00Z",
         "2182-01-10T16:52:00Z",
         null,
         "URGENT",
         "P3529J",
         "TRANSFER FROM HOSPITAL",
         "HOME",
         "Other",
         "ENGLISH",
         "SINGLE",
         "OTHER",
         null,
         null,
         0
        ]
       ],
       "datasetInfos": [],
       "dbfsResultPath": null,
       "isJsonSchema": true,
       "metadata": {
        "isDbfsCommandResult": false
       },
       "overflow": false,
       "plotOptions": {
        "customPlotOptions": {},
        "displayType": "table",
        "pivotAggregation": null,
        "pivotColumns": null,
        "xColumns": null,
        "yColumns": null
       },
       "removedWidgets": [],
       "schema": [
        {
         "metadata": "{}",
         "name": "subject_id",
         "type": "\"integer\""
        },
        {
         "metadata": "{}",
         "name": "hadm_id",
         "type": "\"integer\""
        },
        {
         "metadata": "{}",
         "name": "admittime",
         "type": "\"timestamp\""
        },
        {
         "metadata": "{}",
         "name": "dischtime",
         "type": "\"timestamp\""
        },
        {
         "metadata": "{}",
         "name": "deathtime",
         "type": "\"timestamp\""
        },
        {
         "metadata": "{}",
         "name": "admission_type",
         "type": "\"string\""
        },
        {
         "metadata": "{}",
         "name": "admit_provider_id",
         "type": "\"string\""
        },
        {
         "metadata": "{}",
         "name": "admission_location",
         "type": "\"string\""
        },
        {
         "metadata": "{}",
         "name": "discharge_location",
         "type": "\"string\""
        },
        {
         "metadata": "{}",
         "name": "insurance",
         "type": "\"string\""
        },
        {
         "metadata": "{}",
         "name": "language",
         "type": "\"string\""
        },
        {
         "metadata": "{}",
         "name": "marital_status",
         "type": "\"string\""
        },
        {
         "metadata": "{}",
         "name": "race",
         "type": "\"string\""
        },
        {
         "metadata": "{}",
         "name": "edregtime",
         "type": "\"timestamp\""
        },
        {
         "metadata": "{}",
         "name": "edouttime",
         "type": "\"timestamp\""
        },
        {
         "metadata": "{}",
         "name": "hospital_expire_flag",
         "type": "\"integer\""
        }
       ],
       "type": "table"
      }
     },
     "output_type": "display_data"
    }
   ],
   "source": [
    "USE hive_metastore.mimic_iv_demo;\n",
    "\n",
    "select * FROM hosp_admissions limit 10; \n"
   ]
  }
 ],
 "metadata": {
  "application/vnd.databricks.v1+notebook": {
   "computePreferences": null,
   "dashboards": [],
   "environmentMetadata": null,
   "inputWidgetPreferences": null,
   "language": "sql",
   "notebookMetadata": {
    "pythonIndentUnit": 4
   },
   "notebookName": "09. SQL Notebook",
   "widgets": {}
  },
  "language_info": {
   "name": "sql"
  }
 },
 "nbformat": 4,
 "nbformat_minor": 0
}